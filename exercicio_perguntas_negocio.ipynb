{
 "cells": [
  {
   "cell_type": "code",
   "id": "e0b324fa",
   "metadata": {
    "ExecuteTime": {
     "end_time": "2024-06-04T19:11:52.793319Z",
     "start_time": "2024-06-04T19:11:51.891842Z"
    }
   },
   "source": [
    "import pandas as pd"
   ],
   "outputs": [],
   "execution_count": 1
  },
  {
   "cell_type": "code",
   "id": "f63e4d52",
   "metadata": {
    "ExecuteTime": {
     "end_time": "2024-06-04T19:11:52.836492Z",
     "start_time": "2024-06-04T19:11:52.795342Z"
    }
   },
   "source": [
    "df = pd.read_csv('train.csv')"
   ],
   "outputs": [],
   "execution_count": 2
  },
  {
   "cell_type": "code",
   "id": "b98c50ba",
   "metadata": {
    "ExecuteTime": {
     "end_time": "2024-06-04T19:11:52.854318Z",
     "start_time": "2024-06-04T19:11:52.837482Z"
    }
   },
   "source": [
    "df.head()"
   ],
   "outputs": [
    {
     "data": {
      "text/plain": [
       "        ID Delivery_person_ID Delivery_person_Age Delivery_person_Ratings  \\\n",
       "0  0x4607     INDORES13DEL02                   37                     4.9   \n",
       "1  0xb379     BANGRES18DEL02                   34                     4.5   \n",
       "2  0x5d6d     BANGRES19DEL01                   23                     4.4   \n",
       "3  0x7a6a    COIMBRES13DEL02                   38                     4.7   \n",
       "4  0x70a2     CHENRES12DEL01                   32                     4.6   \n",
       "\n",
       "   Restaurant_latitude  Restaurant_longitude  Delivery_location_latitude  \\\n",
       "0            22.745049             75.892471                   22.765049   \n",
       "1            12.913041             77.683237                   13.043041   \n",
       "2            12.914264             77.678400                   12.924264   \n",
       "3            11.003669             76.976494                   11.053669   \n",
       "4            12.972793             80.249982                   13.012793   \n",
       "\n",
       "   Delivery_location_longitude  Order_Date Time_Orderd Time_Order_picked  \\\n",
       "0                    75.912471  19-03-2022    11:30:00          11:45:00   \n",
       "1                    77.813237  25-03-2022    19:45:00          19:50:00   \n",
       "2                    77.688400  19-03-2022    08:30:00          08:45:00   \n",
       "3                    77.026494  05-04-2022    18:00:00          18:10:00   \n",
       "4                    80.289982  26-03-2022    13:30:00          13:45:00   \n",
       "\n",
       "       Weatherconditions Road_traffic_density  Vehicle_condition  \\\n",
       "0       conditions Sunny                High                 2.0   \n",
       "1      conditions Stormy                 Jam                 2.0   \n",
       "2  conditions Sandstorms                 Low                 0.0   \n",
       "3       conditions Sunny              Medium                 0.0   \n",
       "4      conditions Cloudy                High                 1.0   \n",
       "\n",
       "  Type_of_order Type_of_vehicle multiple_deliveries Festival            City  \\\n",
       "0        Snack      motorcycle                    0      No           Urban    \n",
       "1        Snack         scooter                    1      No   Metropolitian    \n",
       "2       Drinks      motorcycle                    1      No           Urban    \n",
       "3       Buffet      motorcycle                    1      No   Metropolitian    \n",
       "4        Snack         scooter                    1      No   Metropolitian    \n",
       "\n",
       "  Time_taken(min)  \n",
       "0        (min) 24  \n",
       "1        (min) 33  \n",
       "2        (min) 26  \n",
       "3        (min) 21  \n",
       "4        (min) 30  "
      ],
      "text/html": [
       "<div>\n",
       "<style scoped>\n",
       "    .dataframe tbody tr th:only-of-type {\n",
       "        vertical-align: middle;\n",
       "    }\n",
       "\n",
       "    .dataframe tbody tr th {\n",
       "        vertical-align: top;\n",
       "    }\n",
       "\n",
       "    .dataframe thead th {\n",
       "        text-align: right;\n",
       "    }\n",
       "</style>\n",
       "<table border=\"1\" class=\"dataframe\">\n",
       "  <thead>\n",
       "    <tr style=\"text-align: right;\">\n",
       "      <th></th>\n",
       "      <th>ID</th>\n",
       "      <th>Delivery_person_ID</th>\n",
       "      <th>Delivery_person_Age</th>\n",
       "      <th>Delivery_person_Ratings</th>\n",
       "      <th>Restaurant_latitude</th>\n",
       "      <th>Restaurant_longitude</th>\n",
       "      <th>Delivery_location_latitude</th>\n",
       "      <th>Delivery_location_longitude</th>\n",
       "      <th>Order_Date</th>\n",
       "      <th>Time_Orderd</th>\n",
       "      <th>Time_Order_picked</th>\n",
       "      <th>Weatherconditions</th>\n",
       "      <th>Road_traffic_density</th>\n",
       "      <th>Vehicle_condition</th>\n",
       "      <th>Type_of_order</th>\n",
       "      <th>Type_of_vehicle</th>\n",
       "      <th>multiple_deliveries</th>\n",
       "      <th>Festival</th>\n",
       "      <th>City</th>\n",
       "      <th>Time_taken(min)</th>\n",
       "    </tr>\n",
       "  </thead>\n",
       "  <tbody>\n",
       "    <tr>\n",
       "      <th>0</th>\n",
       "      <td>0x4607</td>\n",
       "      <td>INDORES13DEL02</td>\n",
       "      <td>37</td>\n",
       "      <td>4.9</td>\n",
       "      <td>22.745049</td>\n",
       "      <td>75.892471</td>\n",
       "      <td>22.765049</td>\n",
       "      <td>75.912471</td>\n",
       "      <td>19-03-2022</td>\n",
       "      <td>11:30:00</td>\n",
       "      <td>11:45:00</td>\n",
       "      <td>conditions Sunny</td>\n",
       "      <td>High</td>\n",
       "      <td>2.0</td>\n",
       "      <td>Snack</td>\n",
       "      <td>motorcycle</td>\n",
       "      <td>0</td>\n",
       "      <td>No</td>\n",
       "      <td>Urban</td>\n",
       "      <td>(min) 24</td>\n",
       "    </tr>\n",
       "    <tr>\n",
       "      <th>1</th>\n",
       "      <td>0xb379</td>\n",
       "      <td>BANGRES18DEL02</td>\n",
       "      <td>34</td>\n",
       "      <td>4.5</td>\n",
       "      <td>12.913041</td>\n",
       "      <td>77.683237</td>\n",
       "      <td>13.043041</td>\n",
       "      <td>77.813237</td>\n",
       "      <td>25-03-2022</td>\n",
       "      <td>19:45:00</td>\n",
       "      <td>19:50:00</td>\n",
       "      <td>conditions Stormy</td>\n",
       "      <td>Jam</td>\n",
       "      <td>2.0</td>\n",
       "      <td>Snack</td>\n",
       "      <td>scooter</td>\n",
       "      <td>1</td>\n",
       "      <td>No</td>\n",
       "      <td>Metropolitian</td>\n",
       "      <td>(min) 33</td>\n",
       "    </tr>\n",
       "    <tr>\n",
       "      <th>2</th>\n",
       "      <td>0x5d6d</td>\n",
       "      <td>BANGRES19DEL01</td>\n",
       "      <td>23</td>\n",
       "      <td>4.4</td>\n",
       "      <td>12.914264</td>\n",
       "      <td>77.678400</td>\n",
       "      <td>12.924264</td>\n",
       "      <td>77.688400</td>\n",
       "      <td>19-03-2022</td>\n",
       "      <td>08:30:00</td>\n",
       "      <td>08:45:00</td>\n",
       "      <td>conditions Sandstorms</td>\n",
       "      <td>Low</td>\n",
       "      <td>0.0</td>\n",
       "      <td>Drinks</td>\n",
       "      <td>motorcycle</td>\n",
       "      <td>1</td>\n",
       "      <td>No</td>\n",
       "      <td>Urban</td>\n",
       "      <td>(min) 26</td>\n",
       "    </tr>\n",
       "    <tr>\n",
       "      <th>3</th>\n",
       "      <td>0x7a6a</td>\n",
       "      <td>COIMBRES13DEL02</td>\n",
       "      <td>38</td>\n",
       "      <td>4.7</td>\n",
       "      <td>11.003669</td>\n",
       "      <td>76.976494</td>\n",
       "      <td>11.053669</td>\n",
       "      <td>77.026494</td>\n",
       "      <td>05-04-2022</td>\n",
       "      <td>18:00:00</td>\n",
       "      <td>18:10:00</td>\n",
       "      <td>conditions Sunny</td>\n",
       "      <td>Medium</td>\n",
       "      <td>0.0</td>\n",
       "      <td>Buffet</td>\n",
       "      <td>motorcycle</td>\n",
       "      <td>1</td>\n",
       "      <td>No</td>\n",
       "      <td>Metropolitian</td>\n",
       "      <td>(min) 21</td>\n",
       "    </tr>\n",
       "    <tr>\n",
       "      <th>4</th>\n",
       "      <td>0x70a2</td>\n",
       "      <td>CHENRES12DEL01</td>\n",
       "      <td>32</td>\n",
       "      <td>4.6</td>\n",
       "      <td>12.972793</td>\n",
       "      <td>80.249982</td>\n",
       "      <td>13.012793</td>\n",
       "      <td>80.289982</td>\n",
       "      <td>26-03-2022</td>\n",
       "      <td>13:30:00</td>\n",
       "      <td>13:45:00</td>\n",
       "      <td>conditions Cloudy</td>\n",
       "      <td>High</td>\n",
       "      <td>1.0</td>\n",
       "      <td>Snack</td>\n",
       "      <td>scooter</td>\n",
       "      <td>1</td>\n",
       "      <td>No</td>\n",
       "      <td>Metropolitian</td>\n",
       "      <td>(min) 30</td>\n",
       "    </tr>\n",
       "  </tbody>\n",
       "</table>\n",
       "</div>"
      ]
     },
     "execution_count": 3,
     "metadata": {},
     "output_type": "execute_result"
    }
   ],
   "execution_count": 3
  },
  {
   "cell_type": "code",
   "id": "c6f948d5",
   "metadata": {
    "ExecuteTime": {
     "end_time": "2024-06-04T19:11:52.862797Z",
     "start_time": "2024-06-04T19:11:52.855641Z"
    }
   },
   "source": [
    "total_ids = len(df['Delivery_person_ID'].unique())\n",
    "total_ids"
   ],
   "outputs": [
    {
     "data": {
      "text/plain": [
       "1254"
      ]
     },
     "execution_count": 4,
     "metadata": {},
     "output_type": "execute_result"
    }
   ],
   "execution_count": 4
  },
  {
   "cell_type": "code",
   "id": "9294a975",
   "metadata": {
    "ExecuteTime": {
     "end_time": "2024-06-04T19:11:52.870790Z",
     "start_time": "2024-06-04T19:11:52.865864Z"
    }
   },
   "source": [
    "max_age = df['Delivery_person_Age'].max()\n",
    "max_age"
   ],
   "outputs": [
    {
     "data": {
      "text/plain": [
       "'NaN '"
      ]
     },
     "execution_count": 5,
     "metadata": {},
     "output_type": "execute_result"
    }
   ],
   "execution_count": 5
  },
  {
   "cell_type": "code",
   "id": "894bce40",
   "metadata": {
    "ExecuteTime": {
     "end_time": "2024-06-04T19:11:52.873784Z",
     "start_time": "2024-06-04T19:11:52.871695Z"
    }
   },
   "source": [],
   "outputs": [],
   "execution_count": 5
  },
  {
   "cell_type": "code",
   "id": "ec903a2c",
   "metadata": {
    "ExecuteTime": {
     "end_time": "2024-06-04T19:11:52.884390Z",
     "start_time": "2024-06-04T19:11:52.875453Z"
    }
   },
   "source": [
    "# Convertendo a coluna 'Delivery_person_Age' para numérico\n",
    "df['Delivery_person_Age'] = pd.to_numeric(df['Delivery_person_Age'], errors='coerce')\n",
    "\n",
    "# Verificando o novo tipo de dado da coluna\n",
    "print(df['Delivery_person_Age'].dtype)\n",
    "\n",
    "# Agora calculando o valor máximo\n",
    "max_age = df['Delivery_person_Age'].max()\n",
    "min_age = df['Delivery_person_Age'].min()\n",
    "print(max_age)\n",
    "print(min_age)"
   ],
   "outputs": [
    {
     "name": "stdout",
     "output_type": "stream",
     "text": [
      "float64\n",
      "50.0\n",
      "15.0\n"
     ]
    }
   ],
   "execution_count": 6
  },
  {
   "cell_type": "code",
   "id": "4cf9643d",
   "metadata": {
    "ExecuteTime": {
     "end_time": "2024-06-04T19:11:52.893010Z",
     "start_time": "2024-06-04T19:11:52.886207Z"
    }
   },
   "source": [
    "# Encontrar o ID do entregador com a maior idade\n",
    "id_max_age = df.loc[df['Delivery_person_Age'].idxmax(), 'Delivery_person_ID']\n",
    "\n",
    "# Encontrar o ID do entregador com a menor idade\n",
    "id_min_age = df.loc[df['Delivery_person_Age'].idxmin(), 'Delivery_person_ID']\n",
    "\n",
    "print(\"ID do entregador com a maior idade:\", id_max_age)\n",
    "print(\"ID do entregador com a menor idade:\", id_min_age)"
   ],
   "outputs": [
    {
     "name": "stdout",
     "output_type": "stream",
     "text": [
      "ID do entregador com a maior idade: BANGRES05DEL01 \n",
      "ID do entregador com a menor idade: JAPRES15DEL03 \n"
     ]
    }
   ],
   "execution_count": 7
  },
  {
   "cell_type": "code",
   "id": "7319fbcb",
   "metadata": {
    "ExecuteTime": {
     "end_time": "2024-06-04T19:11:52.899583Z",
     "start_time": "2024-06-04T19:11:52.894299Z"
    }
   },
   "source": [
    "df['Weatherconditions'].unique()"
   ],
   "outputs": [
    {
     "data": {
      "text/plain": [
       "array(['conditions Sunny', 'conditions Stormy', 'conditions Sandstorms',\n",
       "       'conditions Cloudy', 'conditions Fog', 'conditions Windy',\n",
       "       'conditions NaN', nan], dtype=object)"
      ]
     },
     "execution_count": 8,
     "metadata": {},
     "output_type": "execute_result"
    }
   ],
   "execution_count": 8
  },
  {
   "cell_type": "code",
   "id": "ec87aae4",
   "metadata": {
    "ExecuteTime": {
     "end_time": "2024-06-04T19:11:52.907427Z",
     "start_time": "2024-06-04T19:11:52.901163Z"
    }
   },
   "source": [
    "areia_entregas = df[df['Weatherconditions'] == 'conditions Sandstorms']\n",
    "areia_entregas.shape[0]"
   ],
   "outputs": [
    {
     "data": {
      "text/plain": [
       "1236"
      ]
     },
     "execution_count": 9,
     "metadata": {},
     "output_type": "execute_result"
    }
   ],
   "execution_count": 9
  },
  {
   "cell_type": "code",
   "id": "ffea3edb",
   "metadata": {
    "scrolled": false,
    "ExecuteTime": {
     "end_time": "2024-06-04T19:11:52.922663Z",
     "start_time": "2024-06-04T19:11:52.908303Z"
    }
   },
   "source": [
    "# Remover espaços extras\n",
    "df['Time_Orderd'] = df['Time_Orderd'].str.strip()\n",
    "\n",
    "# Substituir strings vazias ou inválidas por NaN, e então usar 'coerce' para lidar com NaNs\n",
    "df['Time_Orderd'] = pd.to_datetime(df['Time_Orderd'], format='%H:%M:%S', errors='coerce').dt.time\n"
   ],
   "outputs": [],
   "execution_count": 10
  },
  {
   "cell_type": "code",
   "id": "b2cb925c",
   "metadata": {
    "ExecuteTime": {
     "end_time": "2024-06-04T19:11:52.925773Z",
     "start_time": "2024-06-04T19:11:52.923534Z"
    }
   },
   "source": [],
   "outputs": [],
   "execution_count": 10
  },
  {
   "cell_type": "code",
   "id": "3369a9be",
   "metadata": {
    "ExecuteTime": {
     "end_time": "2024-06-04T19:11:52.935931Z",
     "start_time": "2024-06-04T19:11:52.927711Z"
    }
   },
   "source": [
    "# Conversão segura com tratamento para entradas inválidas\n",
    "df['Time_Orderd'] = pd.to_datetime(df['Time_Orderd'], format='%H:%M:%S', errors='coerce').dt.time\n"
   ],
   "outputs": [],
   "execution_count": 11
  },
  {
   "cell_type": "code",
   "id": "ca3fea53",
   "metadata": {
    "ExecuteTime": {
     "end_time": "2024-06-04T19:11:52.944478Z",
     "start_time": "2024-06-04T19:11:52.940829Z"
    }
   },
   "source": [
    "# Verificar as primeiras entradas após a conversão\n",
    "print(df['Time_Orderd'].head())\n"
   ],
   "outputs": [
    {
     "name": "stdout",
     "output_type": "stream",
     "text": [
      "0    11:30:00\n",
      "1    19:45:00\n",
      "2    08:30:00\n",
      "3    18:00:00\n",
      "4    13:30:00\n",
      "Name: Time_Orderd, dtype: object\n"
     ]
    }
   ],
   "execution_count": 12
  },
  {
   "cell_type": "code",
   "id": "659f1339",
   "metadata": {
    "ExecuteTime": {
     "end_time": "2024-06-04T19:11:52.950160Z",
     "start_time": "2024-06-04T19:11:52.946030Z"
    }
   },
   "source": [
    "len(df['Road_traffic_density'].unique())"
   ],
   "outputs": [
    {
     "data": {
      "text/plain": [
       "6"
      ]
     },
     "execution_count": 13,
     "metadata": {},
     "output_type": "execute_result"
    }
   ],
   "execution_count": 13
  },
  {
   "cell_type": "code",
   "id": "478be9cd",
   "metadata": {
    "ExecuteTime": {
     "end_time": "2024-06-04T19:11:52.957283Z",
     "start_time": "2024-06-04T19:11:52.951383Z"
    }
   },
   "source": [
    "df.groupby('Weatherconditions')['ID'].count()"
   ],
   "outputs": [
    {
     "data": {
      "text/plain": [
       "Weatherconditions\n",
       "conditions Cloudy        1268\n",
       "conditions Fog           1319\n",
       "conditions NaN            116\n",
       "conditions Sandstorms    1236\n",
       "conditions Stormy        1293\n",
       "conditions Sunny         1244\n",
       "conditions Windy         1278\n",
       "Name: ID, dtype: int64"
      ]
     },
     "execution_count": 14,
     "metadata": {},
     "output_type": "execute_result"
    }
   ],
   "execution_count": 14
  },
  {
   "cell_type": "code",
   "id": "4d50d909",
   "metadata": {
    "ExecuteTime": {
     "end_time": "2024-06-04T19:11:52.975263Z",
     "start_time": "2024-06-04T19:11:52.958384Z"
    }
   },
   "source": [
    "df.groupby('Weatherconditions').count()"
   ],
   "outputs": [
    {
     "data": {
      "text/plain": [
       "                         ID  Delivery_person_ID  Delivery_person_Age  \\\n",
       "Weatherconditions                                                      \n",
       "conditions Cloudy      1268                1268                 1229   \n",
       "conditions Fog         1319                1319                 1273   \n",
       "conditions NaN          116                 116                   12   \n",
       "conditions Sandstorms  1236                1236                 1203   \n",
       "conditions Stormy      1293                1293                 1256   \n",
       "conditions Sunny       1244                1244                 1212   \n",
       "conditions Windy       1278                1278                 1248   \n",
       "\n",
       "                       Delivery_person_Ratings  Restaurant_latitude  \\\n",
       "Weatherconditions                                                     \n",
       "conditions Cloudy                         1268                 1268   \n",
       "conditions Fog                            1319                 1319   \n",
       "conditions NaN                             116                  116   \n",
       "conditions Sandstorms                     1236                 1236   \n",
       "conditions Stormy                         1293                 1293   \n",
       "conditions Sunny                          1244                 1244   \n",
       "conditions Windy                          1278                 1278   \n",
       "\n",
       "                       Restaurant_longitude  Delivery_location_latitude  \\\n",
       "Weatherconditions                                                         \n",
       "conditions Cloudy                      1268                        1268   \n",
       "conditions Fog                         1319                        1319   \n",
       "conditions NaN                          116                         116   \n",
       "conditions Sandstorms                  1236                        1236   \n",
       "conditions Stormy                      1293                        1293   \n",
       "conditions Sunny                       1244                        1244   \n",
       "conditions Windy                       1278                        1278   \n",
       "\n",
       "                       Delivery_location_longitude  Order_Date  Time_Orderd  \\\n",
       "Weatherconditions                                                             \n",
       "conditions Cloudy                             1268        1268         1236   \n",
       "conditions Fog                                1319        1319         1278   \n",
       "conditions NaN                                 116         116            0   \n",
       "conditions Sandstorms                         1236        1236         1205   \n",
       "conditions Stormy                             1293        1293         1262   \n",
       "conditions Sunny                              1244        1244         1216   \n",
       "conditions Windy                              1278        1278         1249   \n",
       "\n",
       "                       Time_Order_picked  Road_traffic_density  \\\n",
       "Weatherconditions                                                \n",
       "conditions Cloudy                   1268                  1268   \n",
       "conditions Fog                      1319                  1319   \n",
       "conditions NaN                       116                   116   \n",
       "conditions Sandstorms               1236                  1236   \n",
       "conditions Stormy                   1293                  1293   \n",
       "conditions Sunny                    1244                  1244   \n",
       "conditions Windy                    1278                  1278   \n",
       "\n",
       "                       Vehicle_condition  Type_of_order  Type_of_vehicle  \\\n",
       "Weatherconditions                                                          \n",
       "conditions Cloudy                   1268           1268             1268   \n",
       "conditions Fog                      1319           1319             1319   \n",
       "conditions NaN                       116            116              116   \n",
       "conditions Sandstorms               1236           1236             1236   \n",
       "conditions Stormy                   1293           1293             1293   \n",
       "conditions Sunny                    1244           1244             1244   \n",
       "conditions Windy                    1278           1278             1278   \n",
       "\n",
       "                       multiple_deliveries  Festival  City  Time_taken(min)  \n",
       "Weatherconditions                                                            \n",
       "conditions Cloudy                     1268      1268  1268             1268  \n",
       "conditions Fog                        1319      1319  1319             1319  \n",
       "conditions NaN                         116       116   116              116  \n",
       "conditions Sandstorms                 1236      1236  1236             1236  \n",
       "conditions Stormy                     1293      1293  1293             1293  \n",
       "conditions Sunny                      1244      1244  1244             1244  \n",
       "conditions Windy                      1278      1278  1278             1278  "
      ],
      "text/html": [
       "<div>\n",
       "<style scoped>\n",
       "    .dataframe tbody tr th:only-of-type {\n",
       "        vertical-align: middle;\n",
       "    }\n",
       "\n",
       "    .dataframe tbody tr th {\n",
       "        vertical-align: top;\n",
       "    }\n",
       "\n",
       "    .dataframe thead th {\n",
       "        text-align: right;\n",
       "    }\n",
       "</style>\n",
       "<table border=\"1\" class=\"dataframe\">\n",
       "  <thead>\n",
       "    <tr style=\"text-align: right;\">\n",
       "      <th></th>\n",
       "      <th>ID</th>\n",
       "      <th>Delivery_person_ID</th>\n",
       "      <th>Delivery_person_Age</th>\n",
       "      <th>Delivery_person_Ratings</th>\n",
       "      <th>Restaurant_latitude</th>\n",
       "      <th>Restaurant_longitude</th>\n",
       "      <th>Delivery_location_latitude</th>\n",
       "      <th>Delivery_location_longitude</th>\n",
       "      <th>Order_Date</th>\n",
       "      <th>Time_Orderd</th>\n",
       "      <th>Time_Order_picked</th>\n",
       "      <th>Road_traffic_density</th>\n",
       "      <th>Vehicle_condition</th>\n",
       "      <th>Type_of_order</th>\n",
       "      <th>Type_of_vehicle</th>\n",
       "      <th>multiple_deliveries</th>\n",
       "      <th>Festival</th>\n",
       "      <th>City</th>\n",
       "      <th>Time_taken(min)</th>\n",
       "    </tr>\n",
       "    <tr>\n",
       "      <th>Weatherconditions</th>\n",
       "      <th></th>\n",
       "      <th></th>\n",
       "      <th></th>\n",
       "      <th></th>\n",
       "      <th></th>\n",
       "      <th></th>\n",
       "      <th></th>\n",
       "      <th></th>\n",
       "      <th></th>\n",
       "      <th></th>\n",
       "      <th></th>\n",
       "      <th></th>\n",
       "      <th></th>\n",
       "      <th></th>\n",
       "      <th></th>\n",
       "      <th></th>\n",
       "      <th></th>\n",
       "      <th></th>\n",
       "      <th></th>\n",
       "    </tr>\n",
       "  </thead>\n",
       "  <tbody>\n",
       "    <tr>\n",
       "      <th>conditions Cloudy</th>\n",
       "      <td>1268</td>\n",
       "      <td>1268</td>\n",
       "      <td>1229</td>\n",
       "      <td>1268</td>\n",
       "      <td>1268</td>\n",
       "      <td>1268</td>\n",
       "      <td>1268</td>\n",
       "      <td>1268</td>\n",
       "      <td>1268</td>\n",
       "      <td>1236</td>\n",
       "      <td>1268</td>\n",
       "      <td>1268</td>\n",
       "      <td>1268</td>\n",
       "      <td>1268</td>\n",
       "      <td>1268</td>\n",
       "      <td>1268</td>\n",
       "      <td>1268</td>\n",
       "      <td>1268</td>\n",
       "      <td>1268</td>\n",
       "    </tr>\n",
       "    <tr>\n",
       "      <th>conditions Fog</th>\n",
       "      <td>1319</td>\n",
       "      <td>1319</td>\n",
       "      <td>1273</td>\n",
       "      <td>1319</td>\n",
       "      <td>1319</td>\n",
       "      <td>1319</td>\n",
       "      <td>1319</td>\n",
       "      <td>1319</td>\n",
       "      <td>1319</td>\n",
       "      <td>1278</td>\n",
       "      <td>1319</td>\n",
       "      <td>1319</td>\n",
       "      <td>1319</td>\n",
       "      <td>1319</td>\n",
       "      <td>1319</td>\n",
       "      <td>1319</td>\n",
       "      <td>1319</td>\n",
       "      <td>1319</td>\n",
       "      <td>1319</td>\n",
       "    </tr>\n",
       "    <tr>\n",
       "      <th>conditions NaN</th>\n",
       "      <td>116</td>\n",
       "      <td>116</td>\n",
       "      <td>12</td>\n",
       "      <td>116</td>\n",
       "      <td>116</td>\n",
       "      <td>116</td>\n",
       "      <td>116</td>\n",
       "      <td>116</td>\n",
       "      <td>116</td>\n",
       "      <td>0</td>\n",
       "      <td>116</td>\n",
       "      <td>116</td>\n",
       "      <td>116</td>\n",
       "      <td>116</td>\n",
       "      <td>116</td>\n",
       "      <td>116</td>\n",
       "      <td>116</td>\n",
       "      <td>116</td>\n",
       "      <td>116</td>\n",
       "    </tr>\n",
       "    <tr>\n",
       "      <th>conditions Sandstorms</th>\n",
       "      <td>1236</td>\n",
       "      <td>1236</td>\n",
       "      <td>1203</td>\n",
       "      <td>1236</td>\n",
       "      <td>1236</td>\n",
       "      <td>1236</td>\n",
       "      <td>1236</td>\n",
       "      <td>1236</td>\n",
       "      <td>1236</td>\n",
       "      <td>1205</td>\n",
       "      <td>1236</td>\n",
       "      <td>1236</td>\n",
       "      <td>1236</td>\n",
       "      <td>1236</td>\n",
       "      <td>1236</td>\n",
       "      <td>1236</td>\n",
       "      <td>1236</td>\n",
       "      <td>1236</td>\n",
       "      <td>1236</td>\n",
       "    </tr>\n",
       "    <tr>\n",
       "      <th>conditions Stormy</th>\n",
       "      <td>1293</td>\n",
       "      <td>1293</td>\n",
       "      <td>1256</td>\n",
       "      <td>1293</td>\n",
       "      <td>1293</td>\n",
       "      <td>1293</td>\n",
       "      <td>1293</td>\n",
       "      <td>1293</td>\n",
       "      <td>1293</td>\n",
       "      <td>1262</td>\n",
       "      <td>1293</td>\n",
       "      <td>1293</td>\n",
       "      <td>1293</td>\n",
       "      <td>1293</td>\n",
       "      <td>1293</td>\n",
       "      <td>1293</td>\n",
       "      <td>1293</td>\n",
       "      <td>1293</td>\n",
       "      <td>1293</td>\n",
       "    </tr>\n",
       "    <tr>\n",
       "      <th>conditions Sunny</th>\n",
       "      <td>1244</td>\n",
       "      <td>1244</td>\n",
       "      <td>1212</td>\n",
       "      <td>1244</td>\n",
       "      <td>1244</td>\n",
       "      <td>1244</td>\n",
       "      <td>1244</td>\n",
       "      <td>1244</td>\n",
       "      <td>1244</td>\n",
       "      <td>1216</td>\n",
       "      <td>1244</td>\n",
       "      <td>1244</td>\n",
       "      <td>1244</td>\n",
       "      <td>1244</td>\n",
       "      <td>1244</td>\n",
       "      <td>1244</td>\n",
       "      <td>1244</td>\n",
       "      <td>1244</td>\n",
       "      <td>1244</td>\n",
       "    </tr>\n",
       "    <tr>\n",
       "      <th>conditions Windy</th>\n",
       "      <td>1278</td>\n",
       "      <td>1278</td>\n",
       "      <td>1248</td>\n",
       "      <td>1278</td>\n",
       "      <td>1278</td>\n",
       "      <td>1278</td>\n",
       "      <td>1278</td>\n",
       "      <td>1278</td>\n",
       "      <td>1278</td>\n",
       "      <td>1249</td>\n",
       "      <td>1278</td>\n",
       "      <td>1278</td>\n",
       "      <td>1278</td>\n",
       "      <td>1278</td>\n",
       "      <td>1278</td>\n",
       "      <td>1278</td>\n",
       "      <td>1278</td>\n",
       "      <td>1278</td>\n",
       "      <td>1278</td>\n",
       "    </tr>\n",
       "  </tbody>\n",
       "</table>\n",
       "</div>"
      ]
     },
     "execution_count": 15,
     "metadata": {},
     "output_type": "execute_result"
    }
   ],
   "execution_count": 15
  },
  {
   "cell_type": "code",
   "id": "380f7524",
   "metadata": {
    "ExecuteTime": {
     "end_time": "2024-06-04T19:11:52.978412Z",
     "start_time": "2024-06-04T19:11:52.976680Z"
    }
   },
   "source": [],
   "outputs": [],
   "execution_count": 15
  },
  {
   "cell_type": "code",
   "id": "62952457",
   "metadata": {
    "ExecuteTime": {
     "end_time": "2024-06-04T19:11:52.986147Z",
     "start_time": "2024-06-04T19:11:52.979585Z"
    }
   },
   "source": [
    "# Agrupar pelo 'Weatherconditions' e contar o número de entregadores únicos por condição\n",
    "unique_deliverers_per_condition = df.groupby('Weatherconditions')['Delivery_person_ID'].nunique()\n",
    "\n",
    "# Exibir os resultados\n",
    "print(unique_deliverers_per_condition)"
   ],
   "outputs": [
    {
     "name": "stdout",
     "output_type": "stream",
     "text": [
      "Weatherconditions\n",
      "conditions Cloudy        750\n",
      "conditions Fog           755\n",
      "conditions NaN           110\n",
      "conditions Sandstorms    716\n",
      "conditions Stormy        713\n",
      "conditions Sunny         754\n",
      "conditions Windy         729\n",
      "Name: Delivery_person_ID, dtype: int64\n"
     ]
    }
   ],
   "execution_count": 16
  },
  {
   "cell_type": "code",
   "id": "15dd6190",
   "metadata": {
    "ExecuteTime": {
     "end_time": "2024-06-04T19:11:52.995465Z",
     "start_time": "2024-06-04T19:11:52.987363Z"
    }
   },
   "source": [
    "df.groupby('City')['Delivery_person_Age'].mean()"
   ],
   "outputs": [
    {
     "data": {
      "text/plain": [
       "City\n",
       "Metropolitian     29.832616\n",
       "NaN               28.974747\n",
       "Semi-Urban        32.851852\n",
       "Urban             28.716034\n",
       "Name: Delivery_person_Age, dtype: float64"
      ]
     },
     "execution_count": 17,
     "metadata": {},
     "output_type": "execute_result"
    }
   ],
   "execution_count": 17
  },
  {
   "cell_type": "code",
   "id": "3671e073",
   "metadata": {
    "scrolled": true,
    "ExecuteTime": {
     "end_time": "2024-06-04T19:11:53.003635Z",
     "start_time": "2024-06-04T19:11:52.997095Z"
    }
   },
   "source": [
    "df.groupby('City')['Delivery_person_Age'].median()"
   ],
   "outputs": [
    {
     "data": {
      "text/plain": [
       "City\n",
       "Metropolitian     30.0\n",
       "NaN               28.0\n",
       "Semi-Urban        35.0\n",
       "Urban             28.0\n",
       "Name: Delivery_person_Age, dtype: float64"
      ]
     },
     "execution_count": 18,
     "metadata": {},
     "output_type": "execute_result"
    }
   ],
   "execution_count": 18
  },
  {
   "cell_type": "code",
   "id": "9e97b6ba",
   "metadata": {
    "ExecuteTime": {
     "end_time": "2024-06-04T19:11:53.016585Z",
     "start_time": "2024-06-04T19:11:53.004877Z"
    }
   },
   "source": [
    "df.head()"
   ],
   "outputs": [
    {
     "data": {
      "text/plain": [
       "        ID Delivery_person_ID  Delivery_person_Age Delivery_person_Ratings  \\\n",
       "0  0x4607     INDORES13DEL02                  37.0                     4.9   \n",
       "1  0xb379     BANGRES18DEL02                  34.0                     4.5   \n",
       "2  0x5d6d     BANGRES19DEL01                  23.0                     4.4   \n",
       "3  0x7a6a    COIMBRES13DEL02                  38.0                     4.7   \n",
       "4  0x70a2     CHENRES12DEL01                  32.0                     4.6   \n",
       "\n",
       "   Restaurant_latitude  Restaurant_longitude  Delivery_location_latitude  \\\n",
       "0            22.745049             75.892471                   22.765049   \n",
       "1            12.913041             77.683237                   13.043041   \n",
       "2            12.914264             77.678400                   12.924264   \n",
       "3            11.003669             76.976494                   11.053669   \n",
       "4            12.972793             80.249982                   13.012793   \n",
       "\n",
       "   Delivery_location_longitude  Order_Date Time_Orderd Time_Order_picked  \\\n",
       "0                    75.912471  19-03-2022    11:30:00          11:45:00   \n",
       "1                    77.813237  25-03-2022    19:45:00          19:50:00   \n",
       "2                    77.688400  19-03-2022    08:30:00          08:45:00   \n",
       "3                    77.026494  05-04-2022    18:00:00          18:10:00   \n",
       "4                    80.289982  26-03-2022    13:30:00          13:45:00   \n",
       "\n",
       "       Weatherconditions Road_traffic_density  Vehicle_condition  \\\n",
       "0       conditions Sunny                High                 2.0   \n",
       "1      conditions Stormy                 Jam                 2.0   \n",
       "2  conditions Sandstorms                 Low                 0.0   \n",
       "3       conditions Sunny              Medium                 0.0   \n",
       "4      conditions Cloudy                High                 1.0   \n",
       "\n",
       "  Type_of_order Type_of_vehicle multiple_deliveries Festival            City  \\\n",
       "0        Snack      motorcycle                    0      No           Urban    \n",
       "1        Snack         scooter                    1      No   Metropolitian    \n",
       "2       Drinks      motorcycle                    1      No           Urban    \n",
       "3       Buffet      motorcycle                    1      No   Metropolitian    \n",
       "4        Snack         scooter                    1      No   Metropolitian    \n",
       "\n",
       "  Time_taken(min)  \n",
       "0        (min) 24  \n",
       "1        (min) 33  \n",
       "2        (min) 26  \n",
       "3        (min) 21  \n",
       "4        (min) 30  "
      ],
      "text/html": [
       "<div>\n",
       "<style scoped>\n",
       "    .dataframe tbody tr th:only-of-type {\n",
       "        vertical-align: middle;\n",
       "    }\n",
       "\n",
       "    .dataframe tbody tr th {\n",
       "        vertical-align: top;\n",
       "    }\n",
       "\n",
       "    .dataframe thead th {\n",
       "        text-align: right;\n",
       "    }\n",
       "</style>\n",
       "<table border=\"1\" class=\"dataframe\">\n",
       "  <thead>\n",
       "    <tr style=\"text-align: right;\">\n",
       "      <th></th>\n",
       "      <th>ID</th>\n",
       "      <th>Delivery_person_ID</th>\n",
       "      <th>Delivery_person_Age</th>\n",
       "      <th>Delivery_person_Ratings</th>\n",
       "      <th>Restaurant_latitude</th>\n",
       "      <th>Restaurant_longitude</th>\n",
       "      <th>Delivery_location_latitude</th>\n",
       "      <th>Delivery_location_longitude</th>\n",
       "      <th>Order_Date</th>\n",
       "      <th>Time_Orderd</th>\n",
       "      <th>Time_Order_picked</th>\n",
       "      <th>Weatherconditions</th>\n",
       "      <th>Road_traffic_density</th>\n",
       "      <th>Vehicle_condition</th>\n",
       "      <th>Type_of_order</th>\n",
       "      <th>Type_of_vehicle</th>\n",
       "      <th>multiple_deliveries</th>\n",
       "      <th>Festival</th>\n",
       "      <th>City</th>\n",
       "      <th>Time_taken(min)</th>\n",
       "    </tr>\n",
       "  </thead>\n",
       "  <tbody>\n",
       "    <tr>\n",
       "      <th>0</th>\n",
       "      <td>0x4607</td>\n",
       "      <td>INDORES13DEL02</td>\n",
       "      <td>37.0</td>\n",
       "      <td>4.9</td>\n",
       "      <td>22.745049</td>\n",
       "      <td>75.892471</td>\n",
       "      <td>22.765049</td>\n",
       "      <td>75.912471</td>\n",
       "      <td>19-03-2022</td>\n",
       "      <td>11:30:00</td>\n",
       "      <td>11:45:00</td>\n",
       "      <td>conditions Sunny</td>\n",
       "      <td>High</td>\n",
       "      <td>2.0</td>\n",
       "      <td>Snack</td>\n",
       "      <td>motorcycle</td>\n",
       "      <td>0</td>\n",
       "      <td>No</td>\n",
       "      <td>Urban</td>\n",
       "      <td>(min) 24</td>\n",
       "    </tr>\n",
       "    <tr>\n",
       "      <th>1</th>\n",
       "      <td>0xb379</td>\n",
       "      <td>BANGRES18DEL02</td>\n",
       "      <td>34.0</td>\n",
       "      <td>4.5</td>\n",
       "      <td>12.913041</td>\n",
       "      <td>77.683237</td>\n",
       "      <td>13.043041</td>\n",
       "      <td>77.813237</td>\n",
       "      <td>25-03-2022</td>\n",
       "      <td>19:45:00</td>\n",
       "      <td>19:50:00</td>\n",
       "      <td>conditions Stormy</td>\n",
       "      <td>Jam</td>\n",
       "      <td>2.0</td>\n",
       "      <td>Snack</td>\n",
       "      <td>scooter</td>\n",
       "      <td>1</td>\n",
       "      <td>No</td>\n",
       "      <td>Metropolitian</td>\n",
       "      <td>(min) 33</td>\n",
       "    </tr>\n",
       "    <tr>\n",
       "      <th>2</th>\n",
       "      <td>0x5d6d</td>\n",
       "      <td>BANGRES19DEL01</td>\n",
       "      <td>23.0</td>\n",
       "      <td>4.4</td>\n",
       "      <td>12.914264</td>\n",
       "      <td>77.678400</td>\n",
       "      <td>12.924264</td>\n",
       "      <td>77.688400</td>\n",
       "      <td>19-03-2022</td>\n",
       "      <td>08:30:00</td>\n",
       "      <td>08:45:00</td>\n",
       "      <td>conditions Sandstorms</td>\n",
       "      <td>Low</td>\n",
       "      <td>0.0</td>\n",
       "      <td>Drinks</td>\n",
       "      <td>motorcycle</td>\n",
       "      <td>1</td>\n",
       "      <td>No</td>\n",
       "      <td>Urban</td>\n",
       "      <td>(min) 26</td>\n",
       "    </tr>\n",
       "    <tr>\n",
       "      <th>3</th>\n",
       "      <td>0x7a6a</td>\n",
       "      <td>COIMBRES13DEL02</td>\n",
       "      <td>38.0</td>\n",
       "      <td>4.7</td>\n",
       "      <td>11.003669</td>\n",
       "      <td>76.976494</td>\n",
       "      <td>11.053669</td>\n",
       "      <td>77.026494</td>\n",
       "      <td>05-04-2022</td>\n",
       "      <td>18:00:00</td>\n",
       "      <td>18:10:00</td>\n",
       "      <td>conditions Sunny</td>\n",
       "      <td>Medium</td>\n",
       "      <td>0.0</td>\n",
       "      <td>Buffet</td>\n",
       "      <td>motorcycle</td>\n",
       "      <td>1</td>\n",
       "      <td>No</td>\n",
       "      <td>Metropolitian</td>\n",
       "      <td>(min) 21</td>\n",
       "    </tr>\n",
       "    <tr>\n",
       "      <th>4</th>\n",
       "      <td>0x70a2</td>\n",
       "      <td>CHENRES12DEL01</td>\n",
       "      <td>32.0</td>\n",
       "      <td>4.6</td>\n",
       "      <td>12.972793</td>\n",
       "      <td>80.249982</td>\n",
       "      <td>13.012793</td>\n",
       "      <td>80.289982</td>\n",
       "      <td>26-03-2022</td>\n",
       "      <td>13:30:00</td>\n",
       "      <td>13:45:00</td>\n",
       "      <td>conditions Cloudy</td>\n",
       "      <td>High</td>\n",
       "      <td>1.0</td>\n",
       "      <td>Snack</td>\n",
       "      <td>scooter</td>\n",
       "      <td>1</td>\n",
       "      <td>No</td>\n",
       "      <td>Metropolitian</td>\n",
       "      <td>(min) 30</td>\n",
       "    </tr>\n",
       "  </tbody>\n",
       "</table>\n",
       "</div>"
      ]
     },
     "execution_count": 19,
     "metadata": {},
     "output_type": "execute_result"
    }
   ],
   "execution_count": 19
  },
  {
   "cell_type": "code",
   "id": "0a3e2a8a",
   "metadata": {
    "scrolled": true,
    "ExecuteTime": {
     "end_time": "2024-06-04T19:11:53.023607Z",
     "start_time": "2024-06-04T19:11:53.018043Z"
    }
   },
   "source": [
    "df.groupby('Road_traffic_density')['ID'].count()"
   ],
   "outputs": [
    {
     "data": {
      "text/plain": [
       "Road_traffic_density\n",
       "High        759\n",
       "Jam        2430\n",
       "Low        2584\n",
       "Medium     1868\n",
       "NaN         113\n",
       "Name: ID, dtype: int64"
      ]
     },
     "execution_count": 20,
     "metadata": {},
     "output_type": "execute_result"
    }
   ],
   "execution_count": 20
  },
  {
   "cell_type": "code",
   "id": "3384558a",
   "metadata": {
    "scrolled": false,
    "ExecuteTime": {
     "end_time": "2024-06-04T19:11:53.028279Z",
     "start_time": "2024-06-04T19:11:53.024615Z"
    }
   },
   "source": [
    "type(df.loc[0,'Delivery_person_Ratings'])"
   ],
   "outputs": [
    {
     "data": {
      "text/plain": [
       "str"
      ]
     },
     "execution_count": 21,
     "metadata": {},
     "output_type": "execute_result"
    }
   ],
   "execution_count": 21
  },
  {
   "cell_type": "code",
   "id": "6528a635",
   "metadata": {
    "scrolled": true,
    "ExecuteTime": {
     "end_time": "2024-06-04T19:11:53.039167Z",
     "start_time": "2024-06-04T19:11:53.029677Z"
    }
   },
   "source": [
    "df.groupby(['City','Type_of_vehicle'])['ID'].count()"
   ],
   "outputs": [
    {
     "data": {
      "text/plain": [
       "City            Type_of_vehicle  \n",
       "Metropolitian   bicycle                13\n",
       "                electric_scooter      440\n",
       "                motorcycle           3497\n",
       "                scooter              1870\n",
       "NaN             bicycle                 2\n",
       "                electric_scooter       16\n",
       "                motorcycle            101\n",
       "                scooter                90\n",
       "Semi-Urban      motorcycle             26\n",
       "                scooter                 1\n",
       "Urban           bicycle                 1\n",
       "                electric_scooter      160\n",
       "                motorcycle            934\n",
       "                scooter               603\n",
       "Name: ID, dtype: int64"
      ]
     },
     "execution_count": 22,
     "metadata": {},
     "output_type": "execute_result"
    }
   ],
   "execution_count": 22
  },
  {
   "cell_type": "code",
   "id": "4a00352a",
   "metadata": {
    "ExecuteTime": {
     "end_time": "2024-06-04T19:11:53.044471Z",
     "start_time": "2024-06-04T19:11:53.040353Z"
    }
   },
   "source": [
    "df['Delivery_person_Ratings'] = df['Delivery_person_Ratings'].astype(float)"
   ],
   "outputs": [],
   "execution_count": 23
  },
  {
   "cell_type": "code",
   "id": "260e93e1",
   "metadata": {
    "scrolled": false,
    "ExecuteTime": {
     "end_time": "2024-06-04T19:11:53.054741Z",
     "start_time": "2024-06-04T19:11:53.046072Z"
    }
   },
   "source": [
    "df.groupby(['Weatherconditions','Road_traffic_density'])['Delivery_person_Ratings'].min()"
   ],
   "outputs": [
    {
     "data": {
      "text/plain": [
       "Weatherconditions      Road_traffic_density\n",
       "conditions Cloudy      High                    4.0\n",
       "                       Jam                     4.0\n",
       "                       Low                     3.5\n",
       "                       Medium                  4.0\n",
       "conditions Fog         High                    4.0\n",
       "                       Jam                     4.0\n",
       "                       Low                     3.5\n",
       "                       Medium                  4.0\n",
       "conditions NaN         Low                     NaN\n",
       "                       NaN                     1.0\n",
       "conditions Sandstorms  High                    4.0\n",
       "                       Jam                     3.5\n",
       "                       Low                     4.0\n",
       "                       Medium                  3.5\n",
       "conditions Stormy      High                    4.0\n",
       "                       Jam                     3.5\n",
       "                       Low                     4.0\n",
       "                       Medium                  3.5\n",
       "conditions Sunny       High                    3.5\n",
       "                       Jam                     3.5\n",
       "                       Low                     2.5\n",
       "                       Medium                  4.0\n",
       "conditions Windy       High                    4.0\n",
       "                       Jam                     3.5\n",
       "                       Low                     4.0\n",
       "                       Medium                  3.5\n",
       "Name: Delivery_person_Ratings, dtype: float64"
      ]
     },
     "execution_count": 24,
     "metadata": {},
     "output_type": "execute_result"
    }
   ],
   "execution_count": 24
  },
  {
   "cell_type": "code",
   "id": "4ee64dce",
   "metadata": {
    "ExecuteTime": {
     "end_time": "2024-06-04T19:11:53.062937Z",
     "start_time": "2024-06-04T19:11:53.056447Z"
    }
   },
   "source": [
    "df.groupby('Type_of_vehicle')['Delivery_person_Ratings'].mean()"
   ],
   "outputs": [
    {
     "data": {
      "text/plain": [
       "Type_of_vehicle\n",
       "bicycle              3.500000\n",
       "electric_scooter     4.656326\n",
       "motorcycle           4.620323\n",
       "scooter              4.645704\n",
       "Name: Delivery_person_Ratings, dtype: float64"
      ]
     },
     "execution_count": 25,
     "metadata": {},
     "output_type": "execute_result"
    }
   ],
   "execution_count": 25
  },
  {
   "cell_type": "code",
   "id": "78c0b976",
   "metadata": {
    "ExecuteTime": {
     "end_time": "2024-06-04T19:11:53.070142Z",
     "start_time": "2024-06-04T19:11:53.064306Z"
    }
   },
   "source": [
    "df.groupby('Type_of_vehicle')['Delivery_person_Ratings'].median()"
   ],
   "outputs": [
    {
     "data": {
      "text/plain": [
       "Type_of_vehicle\n",
       "bicycle              3.5\n",
       "electric_scooter     4.7\n",
       "motorcycle           4.7\n",
       "scooter              4.7\n",
       "Name: Delivery_person_Ratings, dtype: float64"
      ]
     },
     "execution_count": 26,
     "metadata": {},
     "output_type": "execute_result"
    }
   ],
   "execution_count": 26
  },
  {
   "cell_type": "code",
   "id": "a8ae1b36",
   "metadata": {
    "ExecuteTime": {
     "end_time": "2024-06-04T19:11:53.080993Z",
     "start_time": "2024-06-04T19:11:53.071217Z"
    }
   },
   "source": [
    "df.groupby('Type_of_vehicle')['Delivery_person_Ratings'].agg(['mean', 'median', 'std']).reset_index()"
   ],
   "outputs": [
    {
     "data": {
      "text/plain": [
       "     Type_of_vehicle      mean  median       std\n",
       "0           bicycle   3.500000     3.5  2.886751\n",
       "1  electric_scooter   4.656326     4.7  0.301384\n",
       "2        motorcycle   4.620323     4.7  0.313303\n",
       "3           scooter   4.645704     4.7  0.341702"
      ],
      "text/html": [
       "<div>\n",
       "<style scoped>\n",
       "    .dataframe tbody tr th:only-of-type {\n",
       "        vertical-align: middle;\n",
       "    }\n",
       "\n",
       "    .dataframe tbody tr th {\n",
       "        vertical-align: top;\n",
       "    }\n",
       "\n",
       "    .dataframe thead th {\n",
       "        text-align: right;\n",
       "    }\n",
       "</style>\n",
       "<table border=\"1\" class=\"dataframe\">\n",
       "  <thead>\n",
       "    <tr style=\"text-align: right;\">\n",
       "      <th></th>\n",
       "      <th>Type_of_vehicle</th>\n",
       "      <th>mean</th>\n",
       "      <th>median</th>\n",
       "      <th>std</th>\n",
       "    </tr>\n",
       "  </thead>\n",
       "  <tbody>\n",
       "    <tr>\n",
       "      <th>0</th>\n",
       "      <td>bicycle</td>\n",
       "      <td>3.500000</td>\n",
       "      <td>3.5</td>\n",
       "      <td>2.886751</td>\n",
       "    </tr>\n",
       "    <tr>\n",
       "      <th>1</th>\n",
       "      <td>electric_scooter</td>\n",
       "      <td>4.656326</td>\n",
       "      <td>4.7</td>\n",
       "      <td>0.301384</td>\n",
       "    </tr>\n",
       "    <tr>\n",
       "      <th>2</th>\n",
       "      <td>motorcycle</td>\n",
       "      <td>4.620323</td>\n",
       "      <td>4.7</td>\n",
       "      <td>0.313303</td>\n",
       "    </tr>\n",
       "    <tr>\n",
       "      <th>3</th>\n",
       "      <td>scooter</td>\n",
       "      <td>4.645704</td>\n",
       "      <td>4.7</td>\n",
       "      <td>0.341702</td>\n",
       "    </tr>\n",
       "  </tbody>\n",
       "</table>\n",
       "</div>"
      ]
     },
     "execution_count": 27,
     "metadata": {},
     "output_type": "execute_result"
    }
   ],
   "execution_count": 27
  },
  {
   "cell_type": "code",
   "id": "64c53d44",
   "metadata": {
    "ExecuteTime": {
     "end_time": "2024-06-04T19:11:53.087013Z",
     "start_time": "2024-06-04T19:11:53.082021Z"
    }
   },
   "source": [
    "df.groupby('Festival')['Delivery_person_Ratings'].mean()"
   ],
   "outputs": [
    {
     "data": {
      "text/plain": [
       "Festival\n",
       "NaN     4.766667\n",
       "No      4.633988\n",
       "Yes     4.472619\n",
       "Name: Delivery_person_Ratings, dtype: float64"
      ]
     },
     "execution_count": 28,
     "metadata": {},
     "output_type": "execute_result"
    }
   ],
   "execution_count": 28
  },
  {
   "cell_type": "code",
   "id": "9118dfe2",
   "metadata": {
    "ExecuteTime": {
     "end_time": "2024-06-04T19:11:53.089515Z",
     "start_time": "2024-06-04T19:11:53.087796Z"
    }
   },
   "source": [],
   "outputs": [],
   "execution_count": 28
  }
 ],
 "metadata": {
  "kernelspec": {
   "display_name": "Python 3 (ipykernel)",
   "language": "python",
   "name": "python3"
  },
  "language_info": {
   "codemirror_mode": {
    "name": "ipython",
    "version": 3
   },
   "file_extension": ".py",
   "mimetype": "text/x-python",
   "name": "python",
   "nbconvert_exporter": "python",
   "pygments_lexer": "ipython3",
   "version": "3.11.5"
  }
 },
 "nbformat": 4,
 "nbformat_minor": 5
}
